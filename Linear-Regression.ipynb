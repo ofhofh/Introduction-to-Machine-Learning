{
  "cells": [
    {
      "cell_type": "markdown",
      "metadata": {
        "id": "view-in-github",
        "colab_type": "text"
      },
      "source": [
        "<a href=\"https://colab.research.google.com/github/ofhofh/Introduction-to-Machine-Learning/blob/main/Linear-Regression.ipynb\" target=\"_parent\"><img src=\"https://colab.research.google.com/assets/colab-badge.svg\" alt=\"Open In Colab\"/></a>"
      ]
    },
    {
      "cell_type": "code",
      "source": [
        "import pandas as pd\n",
        "import matplotlib.pyplot as plt"
      ],
      "metadata": {
        "id": "akEZcwdOJy2o"
      },
      "execution_count": 30,
      "outputs": []
    },
    {
      "cell_type": "code",
      "source": [
        "df = pd.read_csv(\"linear-regression-dataset.csv\",sep = \";\")"
      ],
      "metadata": {
        "id": "hEl_rk3VJy4o"
      },
      "execution_count": 31,
      "outputs": []
    },
    {
      "cell_type": "code",
      "source": [
        "plt.scatter(df.experience,df.salary)\n",
        "plt.xlabel(\"experience\")\n",
        "plt.ylabel(\"salary\")\n",
        "plt.show()"
      ],
      "metadata": {
        "id": "u7dFj7EEJy6w",
        "outputId": "4070dc35-309a-4eff-aded-c313216718c0",
        "colab": {
          "base_uri": "https://localhost:8080/",
          "height": 279
        }
      },
      "execution_count": 32,
      "outputs": [
        {
          "output_type": "display_data",
          "data": {
            "text/plain": [
              "<Figure size 432x288 with 1 Axes>"
            ],
            "image/png": "[encoded data removed]"
          },
          "metadata": {
            "needs_background": "light"
          }
        }
      ]
    },
    {
      "cell_type": "code",
      "source": [
        "from sklearn.linear_model import LinearRegression\n",
        "\n",
        "linear_reg = LinearRegression()\n",
        "\n",
        "x = df.experience.values.reshape(14,1)\n",
        "y = df.salary.values.reshape(14,1)\n",
        "\n",
        "linear_reg.fit(x,y)"
      ],
      "metadata": {
        "id": "OzOjcs4_Jy8t",
        "outputId": "ee0ddaf4-a8b5-48bd-a459-72dde2a1b0d1",
        "colab": {
          "base_uri": "https://localhost:8080/"
        }
      },
      "execution_count": 33,
      "outputs": [
        {
          "output_type": "execute_result",
          "data": {
            "text/plain": [
              "LinearRegression()"
            ]
          },
          "metadata": {},
          "execution_count": 33
        }
      ]
    },
    {
      "cell_type": "code",
      "source": [
        "import numpy as np\n",
        "\n",
        "b0 = linear_reg.predict([[0]])\n",
        "print(\"b0: \",b0)"
      ],
      "metadata": {
        "id": "5luhzcgUJy-s",
        "outputId": "67783e4d-6fd3-4463-f0c2-f2700c342d18",
        "colab": {
          "base_uri": "https://localhost:8080/"
        }
      },
      "execution_count": 34,
      "outputs": [
        {
          "output_type": "stream",
          "name": "stdout",
          "text": [
            "b0:  [[1663.89519747]]\n"
          ]
        }
      ]
    },
    {
      "cell_type": "code",
      "source": [
        "b0_ = linear_reg.intercept_\n",
        "print(\"b0_: \",b0_)"
      ],
      "metadata": {
        "id": "aW_mvuuiJ7Zg",
        "outputId": "4258744c-3611-472e-efa8-e965bf75fae3",
        "colab": {
          "base_uri": "https://localhost:8080/"
        }
      },
      "execution_count": 35,
      "outputs": [
        {
          "output_type": "stream",
          "name": "stdout",
          "text": [
            "b0_:  [1663.89519747]\n"
          ]
        }
      ]
    },
    {
      "cell_type": "code",
      "source": [
        "b1 = linear_reg.coef_\n",
        "print(\"b1: \",b1) "
      ],
      "metadata": {
        "id": "RcC0et3YJ7bs",
        "outputId": "9ca6ebaf-a10e-4839-d073-3130f0ab4a9f",
        "colab": {
          "base_uri": "https://localhost:8080/"
        }
      },
      "execution_count": 36,
      "outputs": [
        {
          "output_type": "stream",
          "name": "stdout",
          "text": [
            "b1:  [[1138.34819698]]\n"
          ]
        }
      ]
    },
    {
      "cell_type": "code",
      "source": [
        "new_salary = 1663 + 1138*11\n",
        "print(new_salary)"
      ],
      "metadata": {
        "id": "aBEqecEoJ7eH",
        "outputId": "e4f3c7b6-899d-49d1-9b7e-08a4071720c1",
        "colab": {
          "base_uri": "https://localhost:8080/"
        }
      },
      "execution_count": 37,
      "outputs": [
        {
          "output_type": "stream",
          "name": "stdout",
          "text": [
            "14181\n"
          ]
        }
      ]
    },
    {
      "cell_type": "code",
      "source": [
        "b11 = linear_reg.predict([[11]])\n",
        "print(\"b11: \",b11)"
      ],
      "metadata": {
        "id": "tHysPN1dJ7gP",
        "outputId": "8b4aeda8-10b8-4f86-fc25-5bf64ae5089c",
        "colab": {
          "base_uri": "https://localhost:8080/"
        }
      },
      "execution_count": 38,
      "outputs": [
        {
          "output_type": "stream",
          "name": "stdout",
          "text": [
            "b11:  [[14185.72536421]]\n"
          ]
        }
      ]
    },
    {
      "cell_type": "code",
      "source": [
        "array = np.array([0,1,2,3,4,5,6,7,8,9,10,11,12,13,14,15]).reshape(-1,1)  \n",
        "\n",
        "\n",
        "plt.scatter(x,y)\n",
        "plt.show()\n"
      ],
      "metadata": {
        "id": "VAVs8xTxJ7ib",
        "outputId": "ae649fae-2d0a-4c70-acb5-8c883773731d",
        "colab": {
          "base_uri": "https://localhost:8080/",
          "height": 265
        }
      },
      "execution_count": 46,
      "outputs": [
        {
          "output_type": "display_data",
          "data": {
            "text/plain": [
              "<Figure size 432x288 with 1 Axes>"
            ],
            "image/png": "[encoded data removed]"
          },
          "metadata": {
            "needs_background": "light"
          }
        }
      ]
    },
    {
      "cell_type": "code",
      "source": [
        "y_head = linear_reg.predict(array)  # salary\n",
        "\n",
        "plt.plot(array, y_head,color = \"green\")"
      ],
      "metadata": {
        "id": "qot9h1zBKYg3",
        "outputId": "eb42b03e-92e3-4087-a378-f16c572b5416",
        "colab": {
          "base_uri": "https://localhost:8080/",
          "height": 282
        }
      },
      "execution_count": 48,
      "outputs": [
        {
          "output_type": "execute_result",
          "data": {
            "text/plain": [
              "[<matplotlib.lines.Line2D at 0x7f74911b19d0>]"
            ]
          },
          "metadata": {},
          "execution_count": 48
        },
        {
          "output_type": "display_data",
          "data": {
            "text/plain": [
              "<Figure size 432x288 with 1 Axes>"
            ],
            "image/png": "[encoded data removed]"
          },
          "metadata": {
            "needs_background": "light"
          }
        }
      ]
    },
    {
      "cell_type": "code",
      "source": [
        "b100 = linear_reg.predict([[100]])\n",
        "print(\"b11: \",b100)"
      ],
      "metadata": {
        "id": "m4nzTTEuKBvP",
        "outputId": "8e936755-e37b-41c1-9df3-4dc91273c64e",
        "colab": {
          "base_uri": "https://localhost:8080/"
        }
      },
      "execution_count": 41,
      "outputs": [
        {
          "output_type": "stream",
          "name": "stdout",
          "text": [
            "b11:  [[115498.71489503]]\n"
          ]
        }
      ]
    }
  ],
  "metadata": {
    "colab": {
      "collapsed_sections": [],
      "name": "Colaboratory'ye Hoş Geldiniz",
      "provenance": [],
      "include_colab_link": true
    },
    "kernelspec": {
      "display_name": "Python 3",
      "name": "python3"
    }
  },
  "nbformat": 4,
  "nbformat_minor": 0
}